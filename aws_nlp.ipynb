{
  "nbformat": 4,
  "nbformat_minor": 0,
  "metadata": {
    "colab": {
      "name": "aws_nlp.ipynb",
      "provenance": [],
      "collapsed_sections": [],
      "mount_file_id": "1lM1cRoG4RsiJmeqwy5UEtvho6Cb7avJK",
      "authorship_tag": "ABX9TyMWSX0laCz0Bj8wgNCfA+9u",
      "include_colab_link": true
    },
    "kernelspec": {
      "display_name": "Python 3",
      "name": "python3"
    },
    "language_info": {
      "name": "python"
    }
  },
  "cells": [
    {
      "cell_type": "markdown",
      "metadata": {
        "id": "view-in-github",
        "colab_type": "text"
      },
      "source": [
        "<a href=\"https://colab.research.google.com/github/E-wave112/ml_proj1/blob/master/aws_nlp.ipynb\" target=\"_parent\"><img src=\"https://colab.research.google.com/assets/colab-badge.svg\" alt=\"Open In Colab\"/></a>"
      ]
    },
    {
      "cell_type": "code",
      "metadata": {
        "colab": {
          "base_uri": "https://localhost:8080/"
        },
        "id": "0RBlwlpXTuo0",
        "outputId": "e11abfa7-547e-410d-9626-30269d966c65"
      },
      "source": [
        "import re\n",
        "import os\n",
        "import sys\n",
        "import pandas as pd\n",
        "from pandas import DataFrame\n",
        "import numpy as np\n",
        "from matplotlib import pyplot as plt\n",
        "plt.style.use('dark_background')\n",
        "import string\n",
        "import boto3\n",
        "import tensorflow\n",
        "tensorflow.config.run_functions_eagerly(True)\n",
        "import keras\n",
        "from keras.preprocessing.text import Tokenizer\n",
        "from keras.preprocessing.sequence import pad_sequences\n",
        "from tensorflow.keras.utils import to_categorical,plot_model\n",
        "from keras.models import Sequential,Input\n",
        "from keras.callbacks import EarlyStopping\n",
        "from keras.layers import Dense, Dropout, Embedding, LSTM, GlobalMaxPooling1D, SpatialDropout1D\n",
        "from tensorflow.keras.layers import concatenate\n",
        "\n",
        "if sys.version_info[0] < 3: \n",
        "    from StringIO import StringIO # Python 2.x\n",
        "else:\n",
        "    from io import StringIO # Python 3.x\n",
        "\n",
        "##set your credentials and secret\n",
        "AWS_ID =os.environ['AWS_ID']\n",
        "AWS_SECRET_KEY=os.environ['AWS_SECRET_KEY']\n",
        "\n",
        "##use the boto3 aws client sdk to integrate python and aws s3\n",
        "client = boto3.client('s3', aws_access_key_id=AWS_ID,\n",
        "        aws_secret_access_key=AWS_SECRET_KEY)\n",
        "\n",
        "##get the object name and the object key(the actual .csv file)\n",
        "bucket_name = 'edjangobucket'\n",
        "object_key = 'fake_news.csv'\n",
        "\n",
        "csv_object = client.get_object(Bucket=bucket_name, Key=object_key)\n",
        "csv_body = csv_object['Body']\n",
        "csv_string = csv_body.read().decode('utf-8')\n",
        "\n",
        "df = pd.read_csv(StringIO(csv_string))\n",
        "print(df.head())\n",
        "##drop the date column\n",
        "df.drop(['date'],axis=1,inplace=True)\n",
        "##data cleansing and preprocessing\n",
        "data_process = df[['title','text','subject']]\n",
        "\n",
        "# Basic function to clean the text, remove urls and special characters from each text\n",
        "def clean_text(text):\n",
        "    ##remove numbers\n",
        "    text_nums=''.join([word for word in text if not word.isdigit()])\n",
        "    ##remove urls\n",
        "    text_urls= re.sub(r'https?://\\S+|www\\.\\S+',\"\", text_nums)\n",
        "    ##remove nicks\n",
        "    text_nicks= re.sub(r\"\\@\\S+\", \"\",text_urls)\n",
        "    # Removing spaces and converting text into lowercase\n",
        "    return text_nicks.strip().lower()\n",
        "\n",
        "stop_words = ['i', 'me', 'my', 'myself', 'we', 'our', 'ours', 'ourselves', 'you', \"you're\", \"you've\", \"you'll\", \"you'd\", 'your', 'yours', 'yourself', 'yourselves', 'he', 'him', 'his', 'himself', 'she', \"she's\", 'her', 'hers', 'herself', 'it', \"it's\", 'its', 'itself', 'they', 'them', 'their', 'theirs', 'themselves', 'what', 'which', 'who', 'whom', 'this', 'that', \"that'll\", 'these', 'those', 'am', 'is', 'are', 'was', 'were', 'be', 'been', 'being', 'have', 'has', 'had', 'having', 'do', 'does', 'did', 'doing', 'a', 'an', 'the', 'and', 'but', 'if', 'or', 'because', 'as', 'until', 'while', 'of', 'at', 'by', 'for', 'with', 'about', 'against', 'between', 'into', 'through', 'during', 'before', 'after', 'above', 'below', 'to', 'from', 'up', 'down', 'in', 'out', 'on', 'off', 'over', 'under', 'again', 'further', 'then', 'once', 'here', 'there', 'when', 'where', 'why', 'how', 'all', 'any', 'both', 'each', 'few', 'more', 'most', 'other', 'some', 'such', 'no', 'nor', 'not', 'only', 'own', 'same', 'so', 'than', 'too', 'very', 's', 't', 'can', 'will', 'just', 'don', \"don't\", 'should', \"should've\", 'now', 'd', 'll', 'm', 'o', 're', 've', 'y', 'ain', 'aren', \"aren't\", 'couldn', \"couldn't\", 'didn', \"didn't\", 'doesn', \"doesn't\", 'hadn', \"hadn't\", 'hasn', \"hasn't\", 'haven', \"haven't\", 'isn', \"isn't\", 'ma', 'mightn', \"mightn't\", 'mustn', \"mustn't\", 'needn', \"needn't\", 'shan', \"shan't\", 'shouldn', \"shouldn't\", 'wasn', \"wasn't\", 'weren', \"weren't\", 'won', \"won't\", 'wouldn', \"wouldn't\"]\n",
        "# remove stop words\n",
        "def remove_stopwords(text):\n",
        "    words = [w for w in text if w not in stop_words]\n",
        "    return \"\".join(words)\n",
        "\n",
        "# perform further cleaning to remove quotation marks and other apostrophes\n",
        "replace_list = {r\"i'm\": 'i am',\n",
        "                r\"'re\": ' are',\n",
        "                r\"let’s\": 'let us',\n",
        "                r\"'s\":  ' is',\n",
        "                r\"'ve\": ' have',\n",
        "                r\"can't\": 'can not',\n",
        "                r\"cannot\": 'can not',\n",
        "                r\"shan’t\": 'shall not',\n",
        "                r\"n't\": ' not',\n",
        "                r\"'d\": ' would',\n",
        "                r\"'ll\": ' will',\n",
        "                r\"'scuse\": 'excuse',\n",
        "                ',': ' ,',\n",
        "                '.': ' .',\n",
        "                '!': ' !',\n",
        "                '?': ' ?',\n",
        "                '\\s+': ' '}\n",
        "\n",
        "\n",
        "def clean_further_text(text):\n",
        "    text = text.lower()\n",
        "    for s in replace_list:\n",
        "        text = text.replace(s, replace_list[s])\n",
        "    text = ' '.join(text.split())\n",
        "    return text\n",
        "\n",
        "data_process_1 = data_process.applymap(clean_text)\n",
        "data_process_2 = data_process_1.applymap(clean_further_text)\n",
        "# data_process_3 = data_process_2.applymap(clean_further_text)\n",
        "\n",
        "print(data_process_2.head(10))\n",
        "# use the tokenizer object to further preprocess the text\n",
        "max_words = 8192\n",
        "tokenizer = Tokenizer(\n",
        "    num_words = max_words,\n",
        "    filters = '!\"#$%&()*+,-./:;<=>?@[\\\\]^_`{|}~\\t\\n', \n",
        "    lower=True\n",
        ")\n",
        "\n",
        "MAX_SEQUENCE_LENGTH = 150\n",
        "# first text input model\n",
        "data_process = df[['title','text','subject']]\n",
        "title = data_process_2['title']\n",
        "tokenizer.fit_on_texts(title)\n",
        "title = tokenizer.texts_to_sequences(title)\n",
        "title = pad_sequences(title,maxlen=MAX_SEQUENCE_LENGTH,padding='post')\n",
        "print(tokenizer)\n",
        "title_vocab = len(tokenizer.word_index) + 1\n",
        "print(title_vocab)\n",
        "\n",
        "# second text input model\n",
        "text = data_process_2['text']\n",
        "tokenizer.fit_on_texts(text)\n",
        "text = tokenizer.texts_to_sequences(text)\n",
        "text = pad_sequences(text,maxlen=MAX_SEQUENCE_LENGTH,padding='post')\n",
        "text_vocab = len(tokenizer.word_index) + 1\n",
        "print(text_vocab)\n",
        "\n",
        "# third input model\n",
        "subject = data_process_2['subject']\n",
        "tokenizer.fit_on_texts(subject)\n",
        "subject = tokenizer.texts_to_sequences(subject)\n",
        "subject = pad_sequences(subject,maxlen=MAX_SEQUENCE_LENGTH,padding='post')\n",
        "subject_vocab = len(tokenizer.word_index) + 1\n",
        "print(subject_vocab)\n",
        "\n",
        "\n",
        "Y = df['Type']\n",
        "Y = np.array(Y)\n",
        "\n",
        "Y =to_categorical(Y)\n",
        "print(Y)\n",
        "\n",
        "title_input = keras.Input(\n",
        "    shape=(None,), name=\"title\"\n",
        ")  # Variable-length sequence of ints\n",
        "\n",
        "text_input = keras.Input(\n",
        "    shape=(None,), name=\"text\"\n",
        ")  # Variable-length sequence of ints\n",
        "\n",
        "subject_input = keras.Input(\n",
        "    shape=(None,), name=\"subject\"\n",
        ")  # Variable-length sequence of ints\n",
        "\n",
        "\n",
        "# Embed each word in the title into a 64-dimensional vector\n",
        "title_features = Embedding(title_vocab, 64)(title_input)\n",
        "# Embed each word in the text into a 64-dimensional vector\n",
        "text_features = Embedding(text_vocab, 64)(text_input)\n",
        "# Embed each word in the title into a 64-dimensional vector\n",
        "subject_features = Embedding(subject_vocab, 64)(subject_input)\n",
        "\n",
        "# Reduce sequence of embedded words in the title_features into a single 128-dimensional vector\n",
        "title_features_lstm = LSTM(128,activation=\"sigmoid\",dropout = 0.3, recurrent_dropout = 0.3)(title_features)\n",
        "# Reduce sequence of embedded words in the text_features into a single 128-dimensional vector\n",
        "text_features_lstm = LSTM(128,activation=\"sigmoid\",dropout = 0.3, recurrent_dropout = 0.3)(text_features)\n",
        "# Reduce sequence of embedded words in the subject_features into a single 128-dimensional vector\n",
        "subject_features_lstm = LSTM(128,activation=\"sigmoid\",dropout = 0.3, recurrent_dropout = 0.3)(subject_features)\n",
        "\n",
        "X = concatenate([title_features_lstm,text_features_lstm,subject_features_lstm])\n",
        "# X_pred = X.numpy()\n",
        "\n",
        "# Stick a logistic regression for priority prediction on top of the features\n",
        "X_pred = Dense(128,activation = 'relu')(X)\n",
        "# X_pred = SpatialDropout1D(0.3)(X_pred)\n",
        "# X_pred = Dropout(0.3)(X_pred)\n",
        "X_pred = Dense(32,activation = 'relu')(X_pred)\n",
        "# X_pred = SpatialDropout1D(0.3)(X_pred)\n",
        "# X_pred = Dropout(0.3)(X_pred)\n",
        "X_pred = Dense(2,activation = 'sigmoid')(X_pred)\n",
        "\n",
        "\n",
        "batch_size = 64\n",
        "epochs = 4\n",
        "model = keras.Model(\n",
        "    inputs=[title_input, text_input, subject_input],\n",
        "    outputs=X_pred\n",
        ")\n",
        "\n",
        "plot_model(model, \"/content/drive/MyDrive/tnlp/news_nlp_model.png\", show_shapes=True)\n",
        "\n",
        "model.compile(\n",
        "    optimizer=keras.optimizers.Adam(1e-3),\n",
        "    loss=keras.losses.BinaryCrossentropy(),\n",
        "    metrics=['AUC']\n",
        ")\n",
        "\n",
        "\n",
        "model.summary()"
      ],
      "execution_count": null,
      "outputs": [
        {
          "output_type": "stream",
          "text": [
            "                                               title  ... Type\n",
            "0  Woman accusing Trump of misconduct subpoenas p...  ...    1\n",
            "1  Trump's Commerce pick Wilbur Ross is no strang...  ...    1\n",
            "2   Trump’s New Pathetic Anti-Hillary Ad Frames B...  ...    0\n",
            "3  Trump warns 'rogue regime' North Korea of grav...  ...    1\n",
            "4  LIKE A BAD PENNY: OBAMAS CRASH Music Awards to...  ...    0\n",
            "\n",
            "[5 rows x 5 columns]\n",
            "                                               title  ...       subject\n",
            "0  woman accusing trump of misconduct subpoenas p...  ...  politicsnews\n",
            "1  trump is commerce pick wilbur ross is no stran...  ...  politicsnews\n",
            "2  trump’s new pathetic anti-hillary ad frames bi...  ...          news\n",
            "3  trump warns 'rogue regime' north korea of grav...  ...  politicsnews\n",
            "4  like a bad penny: obamas crash music awards to...  ...      politics\n",
            "5  factbox: latest obamacare repeal bill would bl...  ...  politicsnews\n",
            "6  beware the united nations push for “global gov...  ...     left-news\n",
            "7  two trump tweets debunk russian connection con...  ...       us_news\n",
            "8  germany lauds anti-nuclear campaign winning no...  ...     worldnews\n",
            "9  trump administration is already talking about ...  ...          news\n",
            "\n",
            "[10 rows x 3 columns]\n",
            "<keras_preprocessing.text.Tokenizer object at 0x7f8aac6a3550>\n",
            "30666\n",
            "128017\n",
            "128019\n",
            "[[0. 1.]\n",
            " [0. 1.]\n",
            " [1. 0.]\n",
            " ...\n",
            " [1. 0.]\n",
            " [0. 1.]\n",
            " [1. 0.]]\n",
            "Model: \"model\"\n",
            "__________________________________________________________________________________________________\n",
            "Layer (type)                    Output Shape         Param #     Connected to                     \n",
            "==================================================================================================\n",
            "title (InputLayer)              [(None, None)]       0                                            \n",
            "__________________________________________________________________________________________________\n",
            "text (InputLayer)               [(None, None)]       0                                            \n",
            "__________________________________________________________________________________________________\n",
            "subject (InputLayer)            [(None, None)]       0                                            \n",
            "__________________________________________________________________________________________________\n",
            "embedding (Embedding)           (None, None, 64)     1962624     title[0][0]                      \n",
            "__________________________________________________________________________________________________\n",
            "embedding_1 (Embedding)         (None, None, 64)     8193088     text[0][0]                       \n",
            "__________________________________________________________________________________________________\n",
            "embedding_2 (Embedding)         (None, None, 64)     8193216     subject[0][0]                    \n",
            "__________________________________________________________________________________________________\n",
            "lstm (LSTM)                     (None, 128)          98816       embedding[0][0]                  \n",
            "__________________________________________________________________________________________________\n",
            "lstm_1 (LSTM)                   (None, 128)          98816       embedding_1[0][0]                \n",
            "__________________________________________________________________________________________________\n",
            "lstm_2 (LSTM)                   (None, 128)          98816       embedding_2[0][0]                \n",
            "__________________________________________________________________________________________________\n",
            "tf.concat (TFOpLambda)          (None, 384)          0           lstm[0][0]                       \n",
            "                                                                 lstm_1[0][0]                     \n",
            "                                                                 lstm_2[0][0]                     \n",
            "__________________________________________________________________________________________________\n",
            "dense (Dense)                   (None, 128)          49280       tf.concat[0][0]                  \n",
            "__________________________________________________________________________________________________\n",
            "dense_1 (Dense)                 (None, 32)           4128        dense[0][0]                      \n",
            "__________________________________________________________________________________________________\n",
            "dense_2 (Dense)                 (None, 2)            66          dense_1[0][0]                    \n",
            "==================================================================================================\n",
            "Total params: 18,698,850\n",
            "Trainable params: 18,698,850\n",
            "Non-trainable params: 0\n",
            "__________________________________________________________________________________________________\n"
          ],
          "name": "stdout"
        }
      ]
    },
    {
      "cell_type": "code",
      "metadata": {
        "colab": {
          "base_uri": "https://localhost:8080/",
          "height": 795
        },
        "id": "Z0_9AK_uHGo2",
        "outputId": "f220140b-7dd9-49e6-98eb-292553eb1b31"
      },
      "source": [
        "history = model.fit(\n",
        "     {\"title\":title,\"text\":text,\"subject\":subject},\n",
        "    Y,\n",
        "    validation_split = 0.20,\n",
        "    epochs = epochs,\n",
        "    batch_size = batch_size, callbacks=EarlyStopping(monitor=\"val_loss\",\n",
        "                                              min_delta=0.002,\n",
        "                                              patience=5)\n",
        ")\n",
        "\n",
        "model.save(\"/content/drive/MyDrive/tnlp/nlp_model.h5\")\n",
        "print(\"Saved model to disk\")\n",
        "##learning curve for model accuracy\n",
        "plt.title('Model loss')\n",
        "plt.plot(history.history['auc'])\n",
        "plt.plot(history.history['val_auc'])\n",
        "plt.xlabel('Epochs')\n",
        "plt.ylabel('auc')\n",
        "plt.legend(['train','validate'],loc ='upper right')\n",
        "plt.show()\n",
        "\n",
        "\n",
        "##learning curve for model loss\n",
        "plt.title('Model loss')\n",
        "plt.plot(history.history['loss'])\n",
        "plt.plot(history.history['val_loss'])\n",
        "plt.xlabel('Epochs')\n",
        "plt.ylabel('Loss')\n",
        "plt.legend(['train','validate'],loc ='upper right')\n",
        "plt.show()"
      ],
      "execution_count": null,
      "outputs": [
        {
          "output_type": "stream",
          "text": [
            "/usr/local/lib/python3.7/dist-packages/tensorflow/python/data/ops/dataset_ops.py:3704: UserWarning: Even though the `tf.config.experimental_run_functions_eagerly` option is set, this option does not apply to tf.data functions. To force eager execution of tf.data functions, please use `tf.data.experimental.enable.debug_mode()`.\n",
            "  \"Even though the `tf.config.experimental_run_functions_eagerly` \"\n"
          ],
          "name": "stderr"
        },
        {
          "output_type": "stream",
          "text": [
            "Epoch 1/4\n",
            "562/562 [==============================] - 2721s 5s/step - loss: 0.4927 - auc: 0.7841 - val_loss: 0.0802 - val_auc: 0.9937\n",
            "Epoch 2/4\n",
            "562/562 [==============================] - 2735s 5s/step - loss: 0.0820 - auc: 0.9941 - val_loss: 0.0426 - val_auc: 0.9978\n",
            "Epoch 3/4\n",
            "562/562 [==============================] - 2746s 5s/step - loss: 0.0414 - auc: 0.9982 - val_loss: 0.0332 - val_auc: 0.9982\n",
            "Epoch 4/4\n",
            "562/562 [==============================] - 2707s 5s/step - loss: 0.0237 - auc: 0.9991 - val_loss: 0.0317 - val_auc: 0.9985\n",
            "Saved model to disk\n"
          ],
          "name": "stdout"
        },
        {
          "output_type": "display_data",
          "data": {
            "image/png": "[encoded data removed]",
            "text/plain": [
              "<Figure size 432x288 with 1 Axes>"
            ]
          },
          "metadata": {
            "tags": []
          }
        },
        {
          "output_type": "display_data",
          "data": {
            "image/png": "[encoded data removed]",
            "text/plain": [
              "<Figure size 432x288 with 1 Axes>"
            ]
          },
          "metadata": {
            "tags": []
          }
        }
      ]
    },
    {
      "cell_type": "code",
      "metadata": {
        "colab": {
          "base_uri": "https://localhost:8080/"
        },
        "id": "-bgA2_GH9zIT",
        "outputId": "f1f07eab-8dd9-4630-f2e1-6953c6e28b4e"
      },
      "source": [
        "from google.colab import drive\n",
        "drive.mount('/content/drive')"
      ],
      "execution_count": null,
      "outputs": [
        {
          "output_type": "stream",
          "text": [
            "Drive already mounted at /content/drive; to attempt to forcibly remount, call drive.mount(\"/content/drive\", force_remount=True).\n"
          ],
          "name": "stdout"
        }
      ]
    },
    {
      "cell_type": "code",
      "metadata": {
        "colab": {
          "base_uri": "https://localhost:8080/"
        },
        "id": "3U26Lha4_iqi",
        "outputId": "af49c1da-63a8-4e40-9e9f-6c199da746ae"
      },
      "source": [
        "import nltk\n",
        "nltk.download('stopwords')"
      ],
      "execution_count": null,
      "outputs": [
        {
          "output_type": "stream",
          "text": [
            "[nltk_data] Downloading package stopwords to /root/nltk_data...\n",
            "[nltk_data]   Unzipping corpora/stopwords.zip.\n"
          ],
          "name": "stdout"
        },
        {
          "output_type": "execute_result",
          "data": {
            "text/plain": [
              "True"
            ]
          },
          "metadata": {
            "tags": []
          },
          "execution_count": 2
        }
      ]
    },
    {
      "cell_type": "code",
      "metadata": {
        "colab": {
          "base_uri": "https://localhost:8080/"
        },
        "id": "4ISkBuxZkwXL",
        "outputId": "8d3a1f9f-1076-4e59-894e-fef730f67849"
      },
      "source": [
        "from nltk.corpus import stopwords\n",
        "stop=set(stopwords.words('english'))\n",
        "start = stopwords.words('english')\n",
        "\n",
        "with open('/content/drive/MyDrive/ustacky/text.txt','w+') as w:\n",
        "  w.write(f'{start}')\n",
        "\n",
        "print(len(start))\n",
        "print(start)\n",
        "print(len(stop))"
      ],
      "execution_count": null,
      "outputs": [
        {
          "output_type": "stream",
          "text": [
            "179\n",
            "['i', 'me', 'my', 'myself', 'we', 'our', 'ours', 'ourselves', 'you', \"you're\", \"you've\", \"you'll\", \"you'd\", 'your', 'yours', 'yourself', 'yourselves', 'he', 'him', 'his', 'himself', 'she', \"she's\", 'her', 'hers', 'herself', 'it', \"it's\", 'its', 'itself', 'they', 'them', 'their', 'theirs', 'themselves', 'what', 'which', 'who', 'whom', 'this', 'that', \"that'll\", 'these', 'those', 'am', 'is', 'are', 'was', 'were', 'be', 'been', 'being', 'have', 'has', 'had', 'having', 'do', 'does', 'did', 'doing', 'a', 'an', 'the', 'and', 'but', 'if', 'or', 'because', 'as', 'until', 'while', 'of', 'at', 'by', 'for', 'with', 'about', 'against', 'between', 'into', 'through', 'during', 'before', 'after', 'above', 'below', 'to', 'from', 'up', 'down', 'in', 'out', 'on', 'off', 'over', 'under', 'again', 'further', 'then', 'once', 'here', 'there', 'when', 'where', 'why', 'how', 'all', 'any', 'both', 'each', 'few', 'more', 'most', 'other', 'some', 'such', 'no', 'nor', 'not', 'only', 'own', 'same', 'so', 'than', 'too', 'very', 's', 't', 'can', 'will', 'just', 'don', \"don't\", 'should', \"should've\", 'now', 'd', 'll', 'm', 'o', 're', 've', 'y', 'ain', 'aren', \"aren't\", 'couldn', \"couldn't\", 'didn', \"didn't\", 'doesn', \"doesn't\", 'hadn', \"hadn't\", 'hasn', \"hasn't\", 'haven', \"haven't\", 'isn', \"isn't\", 'ma', 'mightn', \"mightn't\", 'mustn', \"mustn't\", 'needn', \"needn't\", 'shan', \"shan't\", 'shouldn', \"shouldn't\", 'wasn', \"wasn't\", 'weren', \"weren't\", 'won', \"won't\", 'wouldn', \"wouldn't\"]\n",
            "179\n"
          ],
          "name": "stdout"
        }
      ]
    }
  ]
}