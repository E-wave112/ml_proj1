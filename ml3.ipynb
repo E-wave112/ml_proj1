{
 "cells": [
  {
   "cell_type": "code",
   "execution_count": 50,
   "metadata": {},
   "outputs": [
    {
     "name": "stdout",
     "output_type": "stream",
     "text": [
      "<class 'pandas.core.frame.DataFrame'>\n",
      "RangeIndex: 500 entries, 0 to 499\n",
      "Data columns (total 9 columns):\n",
      "Serial No.           500 non-null int64\n",
      "GRE Score            500 non-null int64\n",
      "TOEFL Score          500 non-null int64\n",
      "University Rating    500 non-null int64\n",
      "SOP                  500 non-null float64\n",
      "LOR                  500 non-null float64\n",
      "CGPA                 500 non-null float64\n",
      "Research             500 non-null int64\n",
      "Admissions           500 non-null float64\n",
      "dtypes: float64(4), int64(5)\n",
      "memory usage: 35.2 KB\n",
      "None\n",
      "       Serial No.   GRE Score  TOEFL Score  University Rating         SOP  \\\n",
      "count  500.000000  500.000000   500.000000         500.000000  500.000000   \n",
      "mean   250.500000  316.472000   107.192000           3.114000    3.374000   \n",
      "std    144.481833   11.295148     6.081868           1.143512    0.991004   \n",
      "min      1.000000  290.000000    92.000000           1.000000    1.000000   \n",
      "25%    125.750000  308.000000   103.000000           2.000000    2.500000   \n",
      "50%    250.500000  317.000000   107.000000           3.000000    3.500000   \n",
      "75%    375.250000  325.000000   112.000000           4.000000    4.000000   \n",
      "max    500.000000  340.000000   120.000000           5.000000    5.000000   \n",
      "\n",
      "            LOR         CGPA    Research  Admissions  \n",
      "count  500.00000  500.000000  500.000000   500.00000  \n",
      "mean     3.48400    8.576440    0.560000     0.72174  \n",
      "std      0.92545    0.604813    0.496884     0.14114  \n",
      "min      1.00000    6.800000    0.000000     0.34000  \n",
      "25%      3.00000    8.127500    0.000000     0.63000  \n",
      "50%      3.50000    8.560000    1.000000     0.72000  \n",
      "75%      4.00000    9.040000    1.000000     0.82000  \n",
      "max      5.00000    9.920000    1.000000     0.97000  \n",
      "(500, 9)\n",
      "   Serial No.  GRE Score  TOEFL Score  University Rating  SOP  LOR   CGPA  \\\n",
      "0           1        337          118                  4  4.5   4.5  9.65   \n",
      "1           2        324          107                  4  4.0   4.5  8.87   \n",
      "2           3        316          104                  3  3.0   3.5  8.00   \n",
      "3           4        322          110                  3  3.5   2.5  8.67   \n",
      "4           5        314          103                  2  2.0   3.0  8.21   \n",
      "\n",
      "   Research  Admissions  \n",
      "0         1        0.92  \n",
      "1         1        0.76  \n",
      "2         1        0.72  \n",
      "3         1        0.80  \n",
      "4         0        0.65  \n"
     ]
    },
    {
     "data": {
      "image/png": "[encoded data removed]",
      "text/plain": [
       "<matplotlib.figure.Figure at 0x4c5c130>"
      ]
     },
     "metadata": {},
     "output_type": "display_data"
    },
    {
     "data": {
      "image/png": "[encoded data removed]",
      "text/plain": [
       "<matplotlib.figure.Figure at 0xa3675d0>"
      ]
     },
     "metadata": {},
     "output_type": "display_data"
    },
    {
     "name": "stdout",
     "output_type": "stream",
     "text": [
      "liras\n",
      "the university ratings didn''t have much of an effect on the TOEFL score\n",
      "point 2::\n",
      "the odds of admissions doesn''t necessary depends on the TOEFL score, although a higher score is very important\n",
      "(350, 7)\n",
      "(350,)\n",
      "(150, 7)\n",
      "(150,)\n",
      "0.8818724420942722\n",
      "0.0022777114210152946\n"
     ]
    },
    {
     "data": {
      "image/png": "[encoded data removed]",
      "text/plain": [
       "<matplotlib.figure.Figure at 0x6f6f310>"
      ]
     },
     "metadata": {},
     "output_type": "display_data"
    },
    {
     "name": "stdout",
     "output_type": "stream",
     "text": [
      "Time:  1.4264150999999856\n"
     ]
    }
   ],
   "source": [
    "%matplotlib inline\n",
    "\n",
    "import timeit\n",
    "start = timeit.default_timer()\n",
    "\n",
    "#Your ops here\n",
    "\n",
    " \n",
    "import sklearn\n",
    "import seaborn as sns\n",
    "import matplotlib.pyplot as plt\n",
    "import numpy as np\n",
    "import pandas as pd\n",
    "from sklearn import preprocessing, cross_validation\n",
    "from sklearn.model_selection import train_test_split\n",
    "from sklearn.linear_model import LinearRegression\n",
    "df = pd.read_csv(\"admindataset.csv\")\n",
    "print(df.info())\n",
    "print(df.describe())\n",
    "print(df.shape)\n",
    "print(df.head())\n",
    "plt.bar(df[\"University Rating\"].head(10),df[\"TOEFL Score\"].head(10), facecolor=\"#9999ff\")\n",
    "plt.show()\n",
    "plt.bar(df[\"TOEFL Score\"],df[\"Admissions\"],facecolor=\"#9999ff\")\n",
    "plt.xlabel('scores')\n",
    "plt.ylabel(\"chances\")\n",
    "plt.show()\n",
    "print('liras')\n",
    "print(\"the university ratings didn''t have much of an effect on the TOEFL score\")\n",
    "print(\"point 2::\")\n",
    "print(\"the odds of admissions doesn''t necessary depends on the TOEFL score, although a higher score is very important\")\n",
    "#Using COLINEAR REGRESSION\n",
    "df = df.drop([\"Serial No.\"], axis=1)\n",
    "corr = df.corr()\n",
    "sns.heatmap(corr)\n",
    "X = df.drop([\"Admissions\"], axis =1)\n",
    "Y = df[\"Admissions\"]\n",
    "X = preprocessing.scale(X)\n",
    "X_train, X_test,Y_train,Y_test = sklearn.cross_validation.train_test_split(X,Y,test_size=0.3)\n",
    "print(X_train.shape)\n",
    "print(Y_train.shape)\n",
    "print(X_test.shape)\n",
    "print(Y_test.shape)\n",
    "lm = LinearRegression()\n",
    "lm.fit(X_train, Y_train)\n",
    "Y_pred = lm.predict(X_test)\n",
    "accuracy = lm.score(X_test,Y_test)\n",
    "print(accuracy)\n",
    "mse = sklearn.metrics.mean_squared_error(Y_test, Y_pred)\n",
    "print(mse)\n",
    "plt.scatter(Y_test,Y_pred, marker=\"x\")\n",
    "plt.title(\"regression line\")\n",
    "plt.show()\n",
    "stop = timeit.default_timer()\n",
    "print('Time: ', stop - start)"
   ]
  },
  {
   "cell_type": "code",
   "execution_count": 51,
   "metadata": {},
   "outputs": [
    {
     "name": "stdout",
     "output_type": "stream",
     "text": [
      "(9, 9)\n"
     ]
    }
   ],
   "source": [
    "import numpy as np\n",
    "y = np.array([[1,2,3,4,5,6,7,8,9],[1,2,3,4,5,6,7,8,9],[1,2,3,4,5,6,7,8,9],[1,2,3,4,5,6,7,8,9],[1,2,3,4,5,6,7,8,9],[1,2,3,4,5,6,7,8,9],[1,2,3,4,5,6,7,8,9],[1,2,3,4,5,6,7,8,9],[1,2,3,4,5,6,7,8,9]])\n",
    "print(y.shape)"
   ]
  },
  {
   "cell_type": "code",
   "execution_count": null,
   "metadata": {},
   "outputs": [],
   "source": []
  },
  {
   "cell_type": "code",
   "execution_count": null,
   "metadata": {},
   "outputs": [],
   "source": []
  },
  {
   "cell_type": "code",
   "execution_count": null,
   "metadata": {},
   "outputs": [],
   "source": []
  },
  {
   "cell_type": "code",
   "execution_count": null,
   "metadata": {},
   "outputs": [],
   "source": []
  },
  {
   "cell_type": "code",
   "execution_count": null,
   "metadata": {},
   "outputs": [],
   "source": []
  }
 ],
 "metadata": {
  "kernelspec": {
   "display_name": "Python 3",
   "language": "python",
   "name": "python3"
  },
  "language_info": {
   "codemirror_mode": {
    "name": "ipython",
    "version": 3
   },
   "file_extension": ".py",
   "mimetype": "text/x-python",
   "name": "python",
   "nbconvert_exporter": "python",
   "pygments_lexer": "ipython3",
   "version": "3.6.4"
  }
 },
 "nbformat": 4,
 "nbformat_minor": 2
}
