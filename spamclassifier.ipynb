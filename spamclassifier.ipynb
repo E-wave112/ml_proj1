{
 "cells": [
  {
   "cell_type": "code",
   "execution_count": 20,
   "metadata": {},
   "outputs": [
    {
     "name": "stdout",
     "output_type": "stream",
     "text": [
      "word_freq_make                    4.540\n",
      "word_freq_address                14.280\n",
      "word_freq_all                     5.100\n",
      "word_freq_3d                     42.810\n",
      "word_freq_our                    10.000\n",
      "word_freq_over                    5.880\n",
      "word_freq_remove                  7.270\n",
      "word_freq_internet               11.110\n",
      "word_freq_order                   5.260\n",
      "word_freq_mail                   18.180\n",
      "word_freq_receive                 2.610\n",
      "word_freq_will                    9.670\n",
      "word_freq_people                  5.550\n",
      "word_freq_report                 10.000\n",
      "word_freq_addresses               4.410\n",
      "word_freq_free                   20.000\n",
      "word_freq_business                7.140\n",
      "word_freq_email                   9.090\n",
      "word_freq_you                    18.750\n",
      "word_freq_credit                 18.180\n",
      "word_freq_your                   11.110\n",
      "word_freq_font                   17.100\n",
      "word_freq_000                     5.450\n",
      "word_freq_money                  12.500\n",
      "word_freq_hp                     20.830\n",
      "word_freq_hpl                    16.660\n",
      "word_freq_george                 33.330\n",
      "word_freq_650                     9.090\n",
      "word_freq_lab                    14.280\n",
      "word_freq_labs                    5.880\n",
      "word_freq_telnet                 12.500\n",
      "word_freq_857                     4.760\n",
      "word_freq_data                   18.180\n",
      "word_freq_415                     4.760\n",
      "word_freq_85                     20.000\n",
      "word_freq_technology              7.690\n",
      "word_freq_1999                    6.890\n",
      "word_freq_parts                   8.330\n",
      "word_freq_pm                     11.110\n",
      "word_freq_direct                  4.760\n",
      "word_freq_cs                      7.140\n",
      "word_freq_meeting                14.280\n",
      "word_freq_original                3.570\n",
      "word_freq_project                20.000\n",
      "word_freq_re                     21.420\n",
      "word_freq_edu                    22.050\n",
      "word_freq_table                   2.170\n",
      "word_freq_conference             10.000\n",
      "char_freq_;                       4.385\n",
      "char_freq_(                       9.752\n",
      "char_freq_[                       4.081\n",
      "char_freq_!                      32.478\n",
      "char_freq_$                       6.003\n",
      "char_freq_#                      19.829\n",
      "capital_run_length_average     1102.500\n",
      "capital_run_length_longest     9989.000\n",
      "capital_run_length_total      15841.000\n",
      "verify                            1.000\n",
      "dtype: float64\n"
     ]
    }
   ],
   "source": [
    "%matplotlib inline\n",
    "\n",
    "#trying out the spam datasets with svm, logistic regression and kneighbours classifier\n",
    "\n",
    "import matplotlib.pyplot as plt\n",
    "import seaborn as sns\n",
    "import pandas as pd\n",
    "from pandas import DataFrame\n",
    "import numpy as np\n",
    "from sklearn.metrics import accuracy_score, f1_score, classification_report, recall_score, precision_score\n",
    "from sklearn.grid_search import GridSearchCV\n",
    "from sklearn.preprocessing import MinMaxScaler, StandardScaler\n",
    "from sklearn.model_selection import train_test_split\n",
    "from sklearn.neighbors import KNeighborsClassifier\n",
    "from sklearn.preprocessing import LabelEncoder, OneHotEncoder\n",
    "\n",
    "\n",
    "df = pd.read_csv('spambase.csv')\n",
    "print(df.max())\n",
    "\n",
    "\n",
    "\n"
   ]
  },
  {
   "cell_type": "code",
   "execution_count": null,
   "metadata": {},
   "outputs": [],
   "source": []
  },
  {
   "cell_type": "code",
   "execution_count": null,
   "metadata": {},
   "outputs": [],
   "source": []
  },
  {
   "cell_type": "code",
   "execution_count": null,
   "metadata": {},
   "outputs": [],
   "source": []
  }
 ],
 "metadata": {
  "kernelspec": {
   "display_name": "Python 3",
   "language": "python",
   "name": "python3"
  },
  "language_info": {
   "codemirror_mode": {
    "name": "ipython",
    "version": 3
   },
   "file_extension": ".py",
   "mimetype": "text/x-python",
   "name": "python",
   "nbconvert_exporter": "python",
   "pygments_lexer": "ipython3",
   "version": "3.6.4"
  }
 },
 "nbformat": 4,
 "nbformat_minor": 2
}
