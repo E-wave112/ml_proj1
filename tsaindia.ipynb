{
  "nbformat": 4,
  "nbformat_minor": 0,
  "metadata": {
    "colab": {
      "name": "tsaindia.ipynb",
      "private_outputs": true,
      "provenance": [],
      "collapsed_sections": [],
      "mount_file_id": "1zOqEoTu_aIo7jmrZE3oo5xcDiwc8uBP1",
      "authorship_tag": "ABX9TyMruR8TWq7J7I+MQ3G0YJQ3",
      "include_colab_link": true
    },
    "kernelspec": {
      "name": "python3",
      "display_name": "Python 3"
    }
  },
  "cells": [
    {
      "cell_type": "markdown",
      "metadata": {
        "id": "view-in-github",
        "colab_type": "text"
      },
      "source": [
        "<a href=\"https://colab.research.google.com/github/E-wave112/ml_proj1/blob/master/tsaindia.ipynb\" target=\"_parent\"><img src=\"https://colab.research.google.com/assets/colab-badge.svg\" alt=\"Open In Colab\"/></a>"
      ]
    },
    {
      "cell_type": "code",
      "metadata": {
        "id": "jLxhES0syQ4C"
      },
      "source": [
        "##import neccessary modules for eda and visualization\n",
        "import numpy as np\n",
        "import pandas as pd\n",
        "import seaborn as sns\n",
        "import datetime\n",
        "import matplotlib.pyplot as plt\n",
        "##using matplotlib as the default style\n",
        "sns.set()\n",
        "\n",
        "##load the data\n",
        "\n",
        "df = pd.read_csv('/content/drive/MyDrive/tsaindia/dataset_tk.csv')\n",
        "##set the dateime index\n",
        "df.rename(columns={'Unnamed: 0':'Dates'},inplace=True)\n",
        "new_date = []\n",
        "##replace the hour minutes timestamps and remove all trailing or leading whitespaces\n",
        "for i in np.array(df['Dates']):\n",
        "  x = i.replace('00:00:00','')\n",
        "  x = x.strip()\n",
        "  new_date.append(x)\n",
        "\n",
        "df['Dates'] = new_date\n",
        "##convert the dates column to datetime objects\n",
        "pd.to_datetime(df['Dates'])\n",
        "print(type(df.loc[1]['Dates']))\n",
        "# df['Dates'] = df['Dates'].apply(lambda x: datetime.datetime.strptime(x,'%d/%m/%Y'))\n",
        "print(df.head())\n",
        "\n",
        "##create a loop to iterate through all columns of our dataframe and generate a lineplot\n",
        "for i in df.columns:\n",
        "  sns.lineplot(data=df,x='Dates',y=i)\n"
      ],
      "execution_count": null,
      "outputs": []
    }
  ]
}