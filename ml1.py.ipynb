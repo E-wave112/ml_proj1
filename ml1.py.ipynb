{
 "cells": [
  {
   "cell_type": "code",
   "execution_count": 29,
   "metadata": {},
   "outputs": [
    {
     "name": "stdout",
     "output_type": "stream",
     "text": [
      "             Open   High    Low  Close  Volume  Ex-Dividend  Split Ratio  \\\n",
      "Date                                                                       \n",
      "2004-08-19  False  False  False  False   False        False        False   \n",
      "2004-08-20  False  False  False  False   False        False        False   \n",
      "2004-08-23  False  False  False  False   False        False        False   \n",
      "2004-08-24  False  False  False  False   False        False        False   \n",
      "2004-08-25  False  False  False  False   False        False        False   \n",
      "...           ...    ...    ...    ...     ...          ...          ...   \n",
      "2018-03-21  False  False  False  False   False        False        False   \n",
      "2018-03-22  False  False  False  False   False        False        False   \n",
      "2018-03-23  False  False  False  False   False        False        False   \n",
      "2018-03-26  False  False  False  False   False        False        False   \n",
      "2018-03-27  False  False  False  False   False        False        False   \n",
      "\n",
      "            Adj. Open  Adj. High  Adj. Low  Adj. Close  Adj. Volume  \n",
      "Date                                                                 \n",
      "2004-08-19      False      False     False       False        False  \n",
      "2004-08-20      False      False     False       False        False  \n",
      "2004-08-23      False      False     False       False        False  \n",
      "2004-08-24      False      False     False       False        False  \n",
      "2004-08-25      False      False     False       False        False  \n",
      "...               ...        ...       ...         ...          ...  \n",
      "2018-03-21      False      False     False       False        False  \n",
      "2018-03-22      False      False     False       False        False  \n",
      "2018-03-23      False      False     False       False        False  \n",
      "2018-03-26      False      False     False       False        False  \n",
      "2018-03-27      False      False     False       False        False  \n",
      "\n",
      "[3424 rows x 12 columns]\n",
      "             Adj. Close    HL_PCT  PCT_change  Adj. Volume\n",
      "Date                                                      \n",
      "2004-08-19    50.322842  3.712563    0.324968   44659000.0\n",
      "2004-08-20    54.322689  0.710922    7.227007   22834300.0\n",
      "2004-08-23    54.869377  3.729433   -1.227880   18256100.0\n",
      "2004-08-24    52.597363  6.417469   -5.726357   15247300.0\n",
      "2004-08-25    53.164113  1.886792    1.183658    9188600.0\n",
      "...                 ...       ...         ...          ...\n",
      "2018-03-21  1094.000000  1.343693    0.130884    1990515.0\n",
      "2018-03-22  1053.150000  2.921711   -2.487014    3418154.0\n",
      "2018-03-23  1026.550000  3.918952   -2.360729    2413517.0\n",
      "2018-03-26  1054.090000  0.491419    0.332191    3272409.0\n",
      "2018-03-27  1006.940000  5.720301   -5.353887    2940957.0\n",
      "\n",
      "[3424 rows x 4 columns]\n",
      "35\n",
      "            Adj. Close    HL_PCT  PCT_change  Adj. Volume      label\n",
      "Date                                                                \n",
      "2004-08-19   50.322842  3.712563    0.324968   44659000.0  69.078238\n",
      "2004-08-20   54.322689  0.710922    7.227007   22834300.0  67.839414\n",
      "2004-08-23   54.869377  3.729433   -1.227880   18256100.0  68.912727\n",
      "2004-08-24   52.597363  6.417469   -5.726357   15247300.0  70.668146\n",
      "2004-08-25   53.164113  1.886792    1.183658    9188600.0  71.219849\n",
      "            Adj. Close    HL_PCT  PCT_change  Adj. Volume  label\n",
      "Date                                                            \n",
      "2018-03-21     1094.00  1.343693    0.130884    1990515.0    NaN\n",
      "2018-03-22     1053.15  2.921711   -2.487014    3418154.0    NaN\n",
      "2018-03-23     1026.55  3.918952   -2.360729    2413517.0    NaN\n",
      "2018-03-26     1054.09  0.491419    0.332191    3272409.0    NaN\n",
      "2018-03-27     1006.94  5.720301   -5.353887    2940957.0    NaN\n",
      "[[-1.39187095  2.33516806  0.23254018  4.46712802]\n",
      " [-1.37635178 -0.31135438  4.81828847  1.8207495 ]\n",
      " [-1.37423066  2.35004252 -0.79917922  1.26561472]\n",
      " ...\n",
      " [ 2.39583323  2.51713951 -1.55184968 -0.65539548]\n",
      " [ 2.50268682 -0.50488861  0.23733959 -0.55124957]\n",
      " [ 2.31974758  4.10537475 -3.54051775 -0.59144015]]\n",
      "3389 3389\n",
      "[1105.7451047  1074.88950824 1022.53746548 1063.55559395 1075.16228378\n",
      " 1075.41236509 1094.33580331 1113.25340152 1116.82746977 1125.17731205\n",
      " 1134.79733729 1131.42292755 1150.72701838 1166.46422597 1138.23079628\n",
      " 1124.53299333 1090.52150412 1105.78055313 1116.67031461 1122.98897862\n",
      " 1137.45737531 1151.8878188  1183.659889   1188.10554429 1160.31608045\n",
      " 1170.96485927 1172.79107803 1155.40996325 1120.63932209 1117.01211232\n",
      " 1115.19914151 1072.32101982 1045.18749636 1074.86356353 1023.9733611 ] 0.9775587332937502 35\n",
      "Date\n",
      "2004-08-19   NaN\n",
      "2004-08-20   NaN\n",
      "2004-08-23   NaN\n",
      "2004-08-24   NaN\n",
      "2004-08-25   NaN\n",
      "              ..\n",
      "2018-01-30   NaN\n",
      "2018-01-31   NaN\n",
      "2018-02-01   NaN\n",
      "2018-02-02   NaN\n",
      "2018-02-05   NaN\n",
      "Name: Forecast, Length: 3389, dtype: float64\n"
     ]
    },
    {
     "data": {
      "image/png": "[encoded data removed]",
      "text/plain": [
       "<matplotlib.figure.Figure at 0x620b030>"
      ]
     },
     "metadata": {},
     "output_type": "display_data"
    },
    {
     "data": {
      "text/plain": [
       "<matplotlib.figure.Figure at 0x86cecf0>"
      ]
     },
     "metadata": {},
     "output_type": "display_data"
    }
   ],
   "source": [
    "import os\n",
    "import pandas as pd\n",
    "import quandl\n",
    "import math, datetime\n",
    "import numpy as np\n",
    "from sklearn import preprocessing, cross_validation, svm\n",
    "from sklearn.linear_model import LinearRegression\n",
    "from sklearn.model_selection import train_test_split\n",
    "%matplotlib inline\n",
    "import matplotlib.pyplot as plt\n",
    "from matplotlib import style\n",
    "style.use('ggplot')\n",
    "import pickle\n",
    "\n",
    "\n",
    "df = quandl.get(\"WIKI/GOOGL\", api_key = \"srzGWDhYdaeirgvZua2M\")\n",
    "print(df.isnull())\n",
    "df = df[['Adj. Open', 'Adj. High', 'Adj. Low', 'Adj. Close','Adj. Volume']]\n",
    "df['HL_PCT'] = (df['Adj. High'] - df['Adj. Close'])/ df['Adj. Close'] * 100\n",
    "df['PCT_change'] = (df['Adj. Close'] - df['Adj. Open'])/ df['Adj. Open'] * 100\n",
    "df = df[['Adj. Close', 'HL_PCT', 'PCT_change', 'Adj. Volume']]\n",
    "print(df)\n",
    "\n",
    "\n",
    "forecast_col = 'Adj. Close'\n",
    "df.fillna(-99999, inplace=True)\n",
    "forecast_out = int(math.ceil(0.01*len(df)))\n",
    "print(forecast_out)\n",
    "df['label'] = df[forecast_col].shift(-forecast_out)\n",
    "\n",
    "print(df.head())\n",
    "print(df.tail())\n",
    "\n",
    "X = np.array(df.drop(['label'],1))#drops all the labels prices except the lable heading it self\n",
    "X = preprocessing.scale(X)\n",
    "print(X)\n",
    "\n",
    "\n",
    "X_lately = X[-forecast_out:]\n",
    "X = X[:-forecast_out]\n",
    "\n",
    "df.dropna(inplace=True)\n",
    "y = np.array(df[\"label\"])#drops all the labels prices except the lable heading it self\n",
    "y = np.array(df[\"label\"])#drops all the labels prices except the lable heading it self\n",
    "\n",
    "\n",
    "print(len(X), len(y))\n",
    "\n",
    "X_train, X_test, y_train, y_test = train_test_split(X, y, test_size = 0.2)\n",
    "\n",
    "clf = LinearRegression(n_jobs =-1)\n",
    "clf.fit(X_train, y_train)\n",
    "\n",
    "with open('linearregression.pickle', 'wb') as f:\n",
    "    pickle.dump(clf, f)\n",
    "    \n",
    "    \n",
    "pickle_in = open('linearregression.pickle', 'rb')\n",
    "clf = pickle.load(pickle_in)\n",
    "\n",
    "accuracy = clf.score(X_test, y_test)\n",
    "\n",
    "\n",
    "forecast_set = clf.predict(X_lately)\n",
    "\n",
    "print(forecast_set, accuracy, forecast_out)\n",
    "\n",
    "df[\"Forecast\"] = np.nan\n",
    "print(df[\"Forecast\"])\n",
    "\n",
    "last_date = df.iloc[-1].name\n",
    "last_unix = last_date.timestamp()\n",
    "one_day = 86400\n",
    "next_unix = last_unix + one_day\n",
    "\n",
    "for i in forecast_set:\n",
    "    next_date = datetime.datetime.fromtimestamp(next_unix)\n",
    "    next_unix += one_day\n",
    "    \n",
    "    df.loc[next_date] = [np.nan for _ in range(len(df.columns)-1)] + [i]\n",
    "    \n",
    "df['Adj. Close'].plot()\n",
    "df['Forecast'].plot()\n",
    "plt.legend(loc=4)\n",
    "plt.xlabel('Date')\n",
    "plt.ylabel('Price')\n",
    "plt.figure(figsize=(15,4),dpi=70)\n",
    "plt.show()\n",
    "\n",
    "\n",
    "\n",
    "\n"
   ]
  },
  {
   "cell_type": "code",
   "execution_count": 26,
   "metadata": {},
   "outputs": [
    {
     "name": "stdout",
     "output_type": "stream",
     "text": [
      "0.5464105057999586\n"
     ]
    },
    {
     "data": {
      "image/png": "[encoded data removed]",
      "text/plain": [
       "<matplotlib.figure.Figure at 0x7147050>"
      ]
     },
     "metadata": {},
     "output_type": "display_data"
    }
   ],
   "source": [
    "import matplotlib.pyplot as plt\n",
    "from statistics import mean\n",
    "import numpy as np\n",
    "import random\n",
    "#xs = np.array([1,2,3,4,5,6], dtype = np.float64)\n",
    "#ys = np.array([5,4,6,5,6,7], dtype = np.float64)\n",
    "\n",
    "\n",
    "def create_dataset(hm, variance, step=2, correlation=False):\n",
    "    val = 1\n",
    "    ys =[]\n",
    "    for i in range(hm):\n",
    "        y = val + random.randrange(-variance, variance)\n",
    "        ys.append(y)\n",
    "        if correlation and correlation =='pos':\n",
    "            val += step\n",
    "        elif correlation and correlation=='neg':\n",
    "            val -= step\n",
    "    xs = [i for i in range(len(ys))]\n",
    "    return np.array(xs, dtype=np.float64), np.array(ys, dtype=np.float64)\n",
    "\n",
    "\n",
    "\n",
    "\n",
    "\n",
    "\n",
    "def slope_regression_and_intercept(xs, ys):\n",
    "    \n",
    "    m = ((mean(xs) * mean(ys))-(mean(xs*ys))) / ((mean(xs)**2)-(mean(xs**2)))\n",
    "    \n",
    "    b = mean(ys) - m*mean(xs)\n",
    "    \n",
    "    return (m,b)\n",
    "\n",
    "#print(slope_regression_and_intercept(xs, ys))\n",
    "\n",
    "\n",
    "def squared_error(ys_orig, ys_line):\n",
    "    return sum((ys_line-ys_orig)**2)\n",
    "\n",
    "\n",
    "def coefficient_of_determin(ys_orig, ys_line):\n",
    "    \n",
    "    y_mean_line = [mean(ys_orig) for y in ys_orig]\n",
    "    squared_error_regr = squared_error(ys_orig, ys_line)\n",
    "    squared_error_y_mean = squared_error(ys_orig, y_mean_line)\n",
    "    return 1- ( squared_error_regr / squared_error_y_mean)\n",
    " \n",
    "    \n",
    "xs, ys= create_dataset(40, 40, step=2, correlation='pos')\n",
    "    \n",
    "\n",
    "m,b = slope_regression_and_intercept(xs, ys)\n",
    "\n",
    "regression_line = [m*x+b for x in xs]\n",
    "\n",
    "coefficent_o_d = coefficient_of_determin(ys, regression_line)\n",
    "\n",
    "\n",
    "print(coefficent_o_d)\n",
    "predict_x = 8\n",
    "predict_y = m*predict_x +b\n",
    "\n",
    "plt.figure(figsize=(5,5), dpi=70)\n",
    "plt.plot(predict_x,predict_y,color=\"g\")\n",
    "plt.plot(xs,regression_line)\n",
    "plt.scatter(xs,ys)\n",
    "plt.show()"
   ]
  },
  {
   "cell_type": "code",
   "execution_count": 20,
   "metadata": {},
   "outputs": [
    {
     "name": "stdout",
     "output_type": "stream",
     "text": [
      "[0 0 0 0]\n"
     ]
    }
   ],
   "source": [
    "x = np.array([15,19,10,11])\n",
    "z = np.array([15,19,10,11])\n",
    "\n",
    "print(x-z)"
   ]
  },
  {
   "cell_type": "code",
   "execution_count": 46,
   "metadata": {},
   "outputs": [
    {
     "name": "stdout",
     "output_type": "stream",
     "text": [
      "       YearsExperience         Salary\n",
      "count        30.000000      30.000000\n",
      "mean          5.313333   76003.000000\n",
      "std           2.837888   27414.429785\n",
      "min           1.100000   37731.000000\n",
      "25%           3.200000   56720.750000\n",
      "50%           4.700000   65237.000000\n",
      "75%           7.700000  100544.750000\n",
      "max          10.500000  122391.000000\n"
     ]
    },
    {
     "data": {
      "image/png": "[encoded data removed]",
      "text/plain": [
       "<matplotlib.figure.Figure at 0x78e61b0>"
      ]
     },
     "metadata": {},
     "output_type": "display_data"
    },
    {
     "name": "stdout",
     "output_type": "stream",
     "text": [
      "(9449.962321455081, 25792.200198668666)\n",
      "our answer -799229550.7120179\n"
     ]
    }
   ],
   "source": [
    "import numpy as np\n",
    "%matplotlib inline\n",
    "import matplotlib.pyplot as plt\n",
    "import pandas as pd\n",
    "from statistics import mean\n",
    "df = pd.read_csv(\"salary.csv\")\n",
    "print(df.describe())\n",
    "x = np.array(df[\"YearsExperience\"])\n",
    "y = np.array(df[\"Salary\"])\n",
    "plt.xlabel(\"years experience\")\n",
    "plt.ylabel(\"salary\")\n",
    "plt.scatter(df[\"YearsExperience\"],df[\"Salary\"] )\n",
    "plt.show()\n",
    "\n",
    "\n",
    "#regression formula\n",
    "def regression_function(x,y):\n",
    "    m = ((mean(x) * mean(y))-(mean(x*y))) / ((mean(x)**2)-(mean(x**2)))\n",
    "    b = mean(y) - m*mean(x)\n",
    "    \n",
    "    return m,b\n",
    "\n",
    "print(regression_function(x,y))\n",
    "\n",
    "\n",
    "m,b = regression_function(x,y)\n",
    "Z = [m*a + b for a in y]\n",
    "\n",
    "\n",
    "def squared_error(ys_orig, ys_line):\n",
    "    return sum((ys_line-ys_orig)**2)\n",
    "\n",
    "\n",
    "def coefficient_of_determin(ys_orig, ys_line):\n",
    "    \n",
    "    y_mean_line = [mean(ys_orig) for y in ys_orig]\n",
    "    squared_error_regr = squared_error(ys_orig, ys_line)\n",
    "    squared_error_y_mean = squared_error(ys_orig, y_mean_line)\n",
    "    return 1- ( squared_error_regr / squared_error_y_mean)\n",
    "\n",
    "\n",
    "coefficent_o_d = coefficient_of_determin(y,Z)\n",
    "print(\"our answer\", coefficent_o_d)"
   ]
  },
  {
   "cell_type": "code",
   "execution_count": 47,
   "metadata": {},
   "outputs": [
    {
     "name": "stdout",
     "output_type": "stream",
     "text": [
      "[ 0.  2.  4.  6.  8. 10. 12.]\n"
     ]
    }
   ],
   "source": [
    "t = np.linspace(0,12,7)\n",
    "print(t)"
   ]
  },
  {
   "cell_type": "code",
   "execution_count": null,
   "metadata": {},
   "outputs": [],
   "source": []
  },
  {
   "cell_type": "raw",
   "metadata": {},
   "source": []
  },
  {
   "cell_type": "code",
   "execution_count": null,
   "metadata": {},
   "outputs": [],
   "source": []
  },
  {
   "cell_type": "code",
   "execution_count": null,
   "metadata": {},
   "outputs": [],
   "source": []
  },
  {
   "cell_type": "code",
   "execution_count": null,
   "metadata": {},
   "outputs": [],
   "source": []
  },
  {
   "cell_type": "code",
   "execution_count": null,
   "metadata": {},
   "outputs": [],
   "source": []
  },
  {
   "cell_type": "code",
   "execution_count": null,
   "metadata": {},
   "outputs": [],
   "source": []
  },
  {
   "cell_type": "code",
   "execution_count": null,
   "metadata": {},
   "outputs": [],
   "source": []
  },
  {
   "cell_type": "code",
   "execution_count": null,
   "metadata": {},
   "outputs": [],
   "source": []
  }
 ],
 "metadata": {
  "kernelspec": {
   "display_name": "Python 3",
   "language": "python",
   "name": "python3"
  },
  "language_info": {
   "codemirror_mode": {
    "name": "ipython",
    "version": 3
   },
   "file_extension": ".py",
   "mimetype": "text/x-python",
   "name": "python",
   "nbconvert_exporter": "python",
   "pygments_lexer": "ipython3",
   "version": "3.6.4"
  }
 },
 "nbformat": 4,
 "nbformat_minor": 2
}
