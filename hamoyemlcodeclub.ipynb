{
  "nbformat": 4,
  "nbformat_minor": 0,
  "metadata": {
    "colab": {
      "name": "hamoyemlcodeclub.ipynb",
      "private_outputs": true,
      "provenance": [],
      "collapsed_sections": [],
      "authorship_tag": "ABX9TyPm6OIEXSleRV75vTdhaRI4",
      "include_colab_link": true
    },
    "kernelspec": {
      "name": "python3",
      "display_name": "Python 3"
    }
  },
  "cells": [
    {
      "cell_type": "markdown",
      "metadata": {
        "id": "view-in-github",
        "colab_type": "text"
      },
      "source": [
        "<a href=\"https://colab.research.google.com/github/E-wave112/ml_proj1/blob/master/hamoyemlcodeclub.ipynb\" target=\"_parent\"><img src=\"https://colab.research.google.com/assets/colab-badge.svg\" alt=\"Open In Colab\"/></a>"
      ]
    },
    {
      "cell_type": "code",
      "metadata": {
        "id": "eMK8GbAlD_Hf"
      },
      "source": [
        "##import required libraries\n",
        "import pandas as pd\n",
        "#load the data into pandas\n",
        "df_cell = pd.read_csv('https://raw.githubusercontent.com/zalihat/cell_phone_dataset/master/cell_phones.csv')\n",
        "df_population = pd.read_csv('https://raw.githubusercontent.com/zalihat/cell_phone_dataset/master/population1.csv')\n",
        "df_cell['Country'].astype('string')\n",
        "df_population['Country'].astype('string')\n",
        "df_country_codes = pd.read_csv('https://raw.githubusercontent.com/open-numbers/ddf--gapminder--systema_globalis/master/ddf--entities--geo--country.csv')\n",
        "##rename the appropriate columns\n",
        "df_country_codes.rename(columns={'country':'geo','name':'Country'},inplace=True)\n",
        "##select the appropriate dataframe and concatenate\n",
        "df_geo_country = pd.concat([df_country_codes['geo'],df_country_codes['Country']],axis=1)\n",
        "##select the geo and Country columns for merging\n",
        "print('======')\n",
        "##merge the two dataframes using an inner join on common columns\n",
        "\n",
        "merged = pd.merge(df_cell,df_population,how ='inner',on=['Country','year'])\n",
        "merged2 = pd.merge(merged,df_geo_country,how='inner',on=['Country'])\n",
        "##find the number of phones per person\n",
        "no_phones_per_person = merged2['cell_phones_total']/merged2['population']\n",
        "merged2['no_of_phones_per_person'] = no_phones_per_person\n",
        "##convert all geo column values to lowercase\n",
        "merged2['geo'] = merged2['geo'].str.upper()\n",
        "print(merged2.describe(include='all'))\n",
        "##code to find the number of countries with the highest number of phones"
      ],
      "execution_count": null,
      "outputs": []
    },
    {
      "cell_type": "code",
      "metadata": {
        "id": "UTI6htCTIMbE"
      },
      "source": [
        "58695-11640\n"
      ],
      "execution_count": null,
      "outputs": []
    }
  ]
}