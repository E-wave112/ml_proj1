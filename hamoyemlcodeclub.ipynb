{
  "nbformat": 4,
  "nbformat_minor": 0,
  "metadata": {
    "colab": {
      "name": "hamoyemlcodeclub.ipynb",
      "provenance": [],
      "collapsed_sections": [],
      "authorship_tag": "ABX9TyPoPWAIz1jffqRgvXdAGF+6",
      "include_colab_link": true
    },
    "kernelspec": {
      "name": "python3",
      "display_name": "Python 3"
    }
  },
  "cells": [
    {
      "cell_type": "markdown",
      "metadata": {
        "id": "view-in-github",
        "colab_type": "text"
      },
      "source": [
        "<a href=\"https://colab.research.google.com/github/E-wave112/ml_proj1/blob/master/hamoyemlcodeclub.ipynb\" target=\"_parent\"><img src=\"https://colab.research.google.com/assets/colab-badge.svg\" alt=\"Open In Colab\"/></a>"
      ]
    },
    {
      "cell_type": "code",
      "metadata": {
        "id": "eMK8GbAlD_Hf",
        "colab": {
          "base_uri": "https://localhost:8080/"
        },
        "outputId": "343bab0b-313a-42e6-fffe-1930e19eda60"
      },
      "source": [
        "##import required libraries\n",
        "import pandas as pd\n",
        "import warnings\n",
        "warnings.filterwarnings('ignore')\n",
        "#load the data into pandas\n",
        "df_cell = pd.read_csv('https://raw.githubusercontent.com/zalihat/cell_phone_dataset/master/cell_phones.csv')\n",
        "df_population = pd.read_csv('https://raw.githubusercontent.com/zalihat/cell_phone_dataset/master/population1.csv')\n",
        "df_cell['Country'].astype('string')\n",
        "df_population['Country'].astype('string')\n",
        "df_country_codes = pd.read_csv('https://raw.githubusercontent.com/open-numbers/ddf--gapminder--systema_globalis/master/ddf--entities--geo--country.csv')\n",
        "##rename the appropriate columns\n",
        "df_country_codes.rename(columns={'country':'geo','name':'Country'},inplace=True)\n",
        "##select the appropriate dataframe and concatenate\n",
        "df_geo_country = pd.concat([df_country_codes['geo'],df_country_codes['Country']],axis=1)\n",
        "##select the geo and Country columns for merging\n",
        "print('======')\n",
        "##merge the two dataframes using an inner join on common columns\n",
        "\n",
        "merged = pd.merge(df_cell,df_population,how ='inner',on=['Country','year'])\n",
        "merged2 = pd.merge(merged,df_geo_country,how='inner',on=['Country'])\n",
        "##find the number of phones per person\n",
        "no_phones_per_person = merged2['cell_phones_total']/merged2['population']\n",
        "merged2['no_of_phones_per_person'] = no_phones_per_person\n",
        "##convert all geo column values to lowercase\n",
        "merged2['geo'] = merged2['geo'].str.upper()\n",
        "print(merged2.head())\n",
        "##pick a selected part of the dataset\n",
        "merged2_selected = merged2[['Country','year','cell_phones_total']]\n",
        "print(merged2_selected.head())\n",
        "##select years in around 2017\n",
        "merged2_year_2017 = merged2_selected[merged2_selected['year']==2017]\n",
        "##drop the 2017 column since we have already subsetted the dataset\n",
        "merged2_year_2017.drop('year',1,inplace=True)\n",
        "##get the countries with the largest number of cell phones already\n",
        "print(merged2_year_2017.nlargest(5,['cell_phones_total']))"
      ],
      "execution_count": 3,
      "outputs": [
        {
          "output_type": "stream",
          "text": [
            "======\n",
            "       Country  year  ...  geo  no_of_phones_per_person\n",
            "0  Afghanistan  1960  ...  AFG                      0.0\n",
            "1  Afghanistan  1961  ...  AFG                      0.0\n",
            "2  Afghanistan  1962  ...  AFG                      0.0\n",
            "3  Afghanistan  1963  ...  AFG                      0.0\n",
            "4  Afghanistan  1964  ...  AFG                      0.0\n",
            "\n",
            "[5 rows x 6 columns]\n",
            "       Country  year  cell_phones_total\n",
            "0  Afghanistan  1960                0.0\n",
            "1  Afghanistan  1961                0.0\n",
            "2  Afghanistan  1962                0.0\n",
            "3  Afghanistan  1963                0.0\n",
            "4  Afghanistan  1964                0.0\n",
            "             Country  cell_phones_total\n",
            "2157           China       1.470000e+09\n",
            "4617           India       1.170000e+09\n",
            "4677       Indonesia       4.350000e+08\n",
            "11157  United States       4.000000e+08\n",
            "8577          Russia       2.270000e+08\n"
          ],
          "name": "stdout"
        }
      ]
    },
    {
      "cell_type": "code",
      "metadata": {
        "id": "UTI6htCTIMbE"
      },
      "source": [
        "import numpy as np\n",
        "x = np.array([[[1],[2],[3]]])\n",
        "print(x.shape)\n"
      ],
      "execution_count": null,
      "outputs": []
    }
  ]
}