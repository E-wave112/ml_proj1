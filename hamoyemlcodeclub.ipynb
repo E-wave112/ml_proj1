{
  "nbformat": 4,
  "nbformat_minor": 0,
  "metadata": {
    "colab": {
      "name": "hamoyemlcodeclub.ipynb",
      "private_outputs": true,
      "provenance": [],
      "collapsed_sections": [],
      "authorship_tag": "ABX9TyOANJTa6TLaPyAdChc7S2rp",
      "include_colab_link": true
    },
    "kernelspec": {
      "name": "python3",
      "display_name": "Python 3"
    }
  },
  "cells": [
    {
      "cell_type": "markdown",
      "metadata": {
        "id": "view-in-github",
        "colab_type": "text"
      },
      "source": [
        "<a href=\"https://colab.research.google.com/github/E-wave112/ml_proj1/blob/hamoye_ml_code_club/hamoyemlcodeclub.ipynb\" target=\"_parent\"><img src=\"https://colab.research.google.com/assets/colab-badge.svg\" alt=\"Open In Colab\"/></a>"
      ]
    },
    {
      "cell_type": "code",
      "metadata": {
        "id": "eMK8GbAlD_Hf"
      },
      "source": [
        "##import required libraries\n",
        "import pandas as pd\n",
        "#load the data into pandas\n",
        "df_cell = pd.read_csv('https://raw.githubusercontent.com/zalihat/cell_phone_dataset/master/cell_phones.csv')\n",
        "df_population = pd.read_csv('https://raw.githubusercontent.com/zalihat/cell_phone_dataset/master/population1.csv')\n",
        "df_cell['Country'].astype('string')\n",
        "df_population['Country'].astype('string')\n",
        "# df_country_codes = pd.read_csv('https://github.com/open-numbers/ddf--gapminder--systema_globalis/blob/master/ddf--entities--geo--country.csv')\n",
        "##merge the two dataframes using an inner join on common columns\n",
        "merged = pd.merge(df_cell,df_population,how ='right',on=['Country','year'])\n",
        "print(merged.shape)\n"
      ],
      "execution_count": null,
      "outputs": []
    }
  ]
}